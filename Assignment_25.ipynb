{
 "cells": [
  {
   "cell_type": "code",
   "execution_count": 5,
   "id": "e95eafdb",
   "metadata": {},
   "outputs": [
    {
     "data": {
      "text/plain": [
       "<generator object <genexpr> at 0x000001E39063FC10>"
      ]
     },
     "execution_count": 5,
     "metadata": {},
     "output_type": "execute_result"
    }
   ],
   "source": [
    "#(1):-difference between enclosing a list comprehension in square brackets and parentheses.\n",
    "\n",
    "lst = [i for i in range(10)]\n",
    "lst\n",
    "#List Comprehension with square brackets produces list."
   ]
  },
  {
   "cell_type": "code",
   "execution_count": 6,
   "id": "ba84c0ea",
   "metadata": {},
   "outputs": [
    {
     "data": {
      "text/plain": [
       "<generator object <genexpr> at 0x000001E39063FF90>"
      ]
     },
     "execution_count": 6,
     "metadata": {},
     "output_type": "execute_result"
    }
   ],
   "source": [
    "lstParanthesis = (i for i in range(10))\n",
    "lstParanthesis\n",
    "#List Comprehension with parentheses creates generators"
   ]
  },
  {
   "cell_type": "code",
   "execution_count": null,
   "id": "bda9d13c",
   "metadata": {},
   "outputs": [],
   "source": [
    "#(2):-the relationship between generators and iterators.\n",
    "\n",
    "'''iterator : -\n",
    "An iterator is an object which contains a countable number of values and it is used to iterate over iterable objects like list,\n",
    "tuples etc\n",
    "Using an iterator- iter() keyword is used to create an iterator containing an iterable object. next() keyword is used to \n",
    "call the next element in the iterable object.\n",
    "\n",
    "Generator : -\n",
    "It is another way of creating iterators in a simple way where it uses the keyword “yield” instead of returning it in a defined\n",
    "function Generators are implemented using a function Here, the yield function returns the data without affecting or exiting \n",
    "the function. It will return a sequence of data in an iterable format where we need to iterate over the sequence to use the \n",
    "data as they won’t store the entire sequence in the memory By using next() function we can iterate the output of generator\n",
    "function'''"
   ]
  },
  {
   "cell_type": "code",
   "execution_count": 7,
   "id": "94cc4c33",
   "metadata": {},
   "outputs": [
    {
     "name": "stdout",
     "output_type": "stream",
     "text": [
      "Dog\n",
      "CAt\n",
      "Bear\n"
     ]
    }
   ],
   "source": [
    "# iterator\n",
    "iter_list = iter(['Dog', 'CAt', 'Bear'])\n",
    "print(next(iter_list))\n",
    "print(next(iter_list))\n",
    "print(next(iter_list))"
   ]
  },
  {
   "cell_type": "code",
   "execution_count": 8,
   "id": "674564cd",
   "metadata": {},
   "outputs": [],
   "source": [
    "# GEnerator \n",
    "\n",
    "def sq(n):\n",
    "    for i in range(1, n+1):\n",
    "        yield i*i"
   ]
  },
  {
   "cell_type": "code",
   "execution_count": 12,
   "id": "c2a21951",
   "metadata": {},
   "outputs": [
    {
     "data": {
      "text/plain": [
       "<generator object sq at 0x000001E39077CEB0>"
      ]
     },
     "execution_count": 12,
     "metadata": {},
     "output_type": "execute_result"
    }
   ],
   "source": [
    "lst=sq(6)\n",
    "lst"
   ]
  },
  {
   "cell_type": "code",
   "execution_count": 13,
   "id": "ed51ca3e",
   "metadata": {},
   "outputs": [
    {
     "name": "stdout",
     "output_type": "stream",
     "text": [
      "1\n",
      "4\n",
      "9\n",
      "16\n"
     ]
    }
   ],
   "source": [
    "print(next(lst))\n",
    "print(next(lst))\n",
    "print(next(lst))\n",
    "print(next(lst))"
   ]
  },
  {
   "cell_type": "code",
   "execution_count": null,
   "id": "eadbed05",
   "metadata": {},
   "outputs": [],
   "source": [
    "#(3):-the signs that a function is a generator function.\n",
    "\n",
    "'''If a function contains at least one yield statement (it may contain other yield or return statements),\n",
    "it becomes a generator function. Both yield and return will return some value from a function.'''"
   ]
  },
  {
   "cell_type": "code",
   "execution_count": null,
   "id": "20d1035a",
   "metadata": {},
   "outputs": [],
   "source": [
    "#(4):-the purpose of a yield statement.\n",
    "\n",
    "'''\n",
    "A yield statement looks much like a return statement, except that instead of stopping execution of the function and\n",
    "returning, yield instead provides a value to the code looping over the generator and pauses execution of the generator function\n",
    "'''"
   ]
  },
  {
   "cell_type": "code",
   "execution_count": null,
   "id": "439c6203",
   "metadata": {},
   "outputs": [],
   "source": [
    "#(5):the relationship between map calls and list comprehensions? Make a comparison and contrast between the two.\n",
    "\n",
    "'''\n",
    "1.List comprehension is more concise and easier to read as compared to map.\n",
    "2.List comprehension allows filtering. In map, we have no such facility. For example, to print all odd numbers in range of 50,\n",
    "   we can write [n for n in range(50) if n%2 != 0]. There is no alternate for it in map\n",
    "3.List comprehension are used when a list of results is required as final output.but map only returns a map object.\n",
    "   it needs to be explicitly coverted to desired datatype.\n",
    "4.List comprehension is faster than map when we need to evaluate expressions that are too long or complicated to express\n",
    "5.Map is faster in case of calling an already defined function on a set of values.\n",
    "'''"
   ]
  }
 ],
 "metadata": {
  "kernelspec": {
   "display_name": "Python 3 (ipykernel)",
   "language": "python",
   "name": "python3"
  },
  "language_info": {
   "codemirror_mode": {
    "name": "ipython",
    "version": 3
   },
   "file_extension": ".py",
   "mimetype": "text/x-python",
   "name": "python",
   "nbconvert_exporter": "python",
   "pygments_lexer": "ipython3",
   "version": "3.9.7"
  }
 },
 "nbformat": 4,
 "nbformat_minor": 5
}
